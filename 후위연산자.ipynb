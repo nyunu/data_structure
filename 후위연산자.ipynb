{
  "nbformat": 4,
  "nbformat_minor": 0,
  "metadata": {
    "colab": {
      "provenance": [],
      "authorship_tag": "ABX9TyOKN8ALCwl2AgUbTDsaIC1V",
      "include_colab_link": true
    },
    "kernelspec": {
      "name": "python3",
      "display_name": "Python 3"
    },
    "language_info": {
      "name": "python"
    }
  },
  "cells": [
    {
      "cell_type": "markdown",
      "metadata": {
        "id": "view-in-github",
        "colab_type": "text"
      },
      "source": [
        "<a href=\"https://colab.research.google.com/github/nyunu/data_structure/blob/main/%ED%9B%84%EC%9C%84%EC%97%B0%EC%82%B0%EC%9E%90.ipynb\" target=\"_parent\"><img src=\"https://colab.research.google.com/assets/colab-badge.svg\" alt=\"Open In Colab\"/></a>"
      ]
    },
    {
      "cell_type": "markdown",
      "source": [
        "## **중위 수식 -> 후위 수식**\n",
        "- 연산자의 우선순위가 높을수록 높은 값을 할당 -> +, - 보다 *, %, /에 더 높은 값을 할당해 우선순위 배정\n",
        "- 연산 우선순위가 높은 연산자가 먼저 계산되어야 하기 때문에 식에도 먼저 등장해야하고 & 같은 우선순위를 갖는 연산자라면 중위 수식에서 먼저 나와있는 연산자가 식에도 먼저저 등장해야 함함 <br>\n",
        "  => 일단 스택에 있는 연산자와 비교 <br>\n",
        "  - 스택의 top에 있는 연산자의 우선순위가 더 높다 ? 혹은 같다 ?\n",
        "  - 스택의 top에 있는 연산자를 빼주고 난 후에 지금 읽어낸 연산자를 다시 스택에 저장\n",
        "- 괄호의 처리\n",
        "  - ' ( '는 그냥 그대로 스택에 저장하고 앞선 과정을 반복\n",
        "  - 그러다가 ' ) '가 등장했다라고 하면 ' ( ' 이후 스택에 저장된 모든 연산자를 출력\n",
        "<br>\n",
        "~> 왜나면 괄호 내에 있는 연산이 먼저 실행되어야 하기 때문에 괄호가 닫힌 후에 실행되는 연산자들이 들어오기 전 다 출력해서 후위 수식을 도출해줌"
      ],
      "metadata": {
        "id": "Qt9u0GxlwnSz"
      }
    },
    {
      "cell_type": "code",
      "execution_count": null,
      "metadata": {
        "id": "CmOR9BfSc_10"
      },
      "outputs": [],
      "source": [
        "class Expression:\n",
        "  def __init__(self, expr):\n",
        "    self.stack = []\n",
        "    self.size = 100\n",
        "    self.expr = expr # 연산식을 문자열로 받아 self.expr에 저장\n",
        "    self.top = -1\n",
        "    self.output = '' # 후위 연산식으로 변환한 결과를 저장할 str형식의 공백 문자열\n",
        "    self.i = 1\n",
        "\n",
        "  # 스택 생성 (self.stack)\n",
        "  def isEmpty(self):\n",
        "    return len(self.stack) == 0\n",
        "\n",
        "  def isFull(self):\n",
        "    return self.size == len(self.stack)\n",
        "\n",
        "  def push(self,item):\n",
        "    if not self.isFull():\n",
        "      self.top += 1\n",
        "      self.stack.append(item)\n",
        "      self.view()\n",
        "    else: print(\"stack is full\")\n",
        "\n",
        "  def pop(self):\n",
        "    if not self.isEmpty():\n",
        "      self.top -= 1\n",
        "      return self.stack.pop()\n",
        "    else: print('stack is empty')\n",
        "\n",
        "  def view(self):\n",
        "    print(\"stack: \",self.stack)\n",
        "\n",
        "  def precedence(self, op): # 연산자 우선순위 배정 함수\n",
        "    if op == '(': return 0\n",
        "    elif op in ['+', '-']: return 1\n",
        "    elif op in ['*', '/', '%']: return 2\n",
        "\n",
        "  def infix_postfix(self): # 중위 -> 후위 변환 함수\n",
        "    for token in self.expr:\n",
        "      print(f\"{self.i}번째 연산자\")\n",
        "      print(\"token: \", token)\n",
        "      if token.isalnum():\n",
        "        self.output += token\n",
        "      elif token == '(':\n",
        "        self.push(token)\n",
        "      elif token == ')':\n",
        "        sym = self.pop()\n",
        "        while sym != '(' and sym != None :\n",
        "          self.output += sym\n",
        "          sym = self.pop()\n",
        "      else:\n",
        "        while not self.isEmpty() and self.precedence(self.stack[-1]) >= self.precedence(token):\n",
        "          sym = self.pop()\n",
        "          self.output += sym\n",
        "        self.push(token)\n",
        "      print(\"output: \", self.output)\n",
        "      print()\n",
        "      self.i += 1\n",
        "    while not self.isEmpty():\n",
        "      self.output += self.pop()"
      ]
    },
    {
      "cell_type": "code",
      "source": [
        "e = Expression('5*7+1')\n",
        "e.infix_postfix()\n",
        "print(\"최종 결과: \", e.output)"
      ],
      "metadata": {
        "colab": {
          "base_uri": "https://localhost:8080/"
        },
        "id": "hoiiCef_p_i_",
        "outputId": "34ab3b6c-fe8f-4bfa-d03f-0eb5900963df"
      },
      "execution_count": null,
      "outputs": [
        {
          "output_type": "stream",
          "name": "stdout",
          "text": [
            "1번째 연산자\n",
            "token:  5\n",
            "output:  5\n",
            "\n",
            "2번째 연산자\n",
            "token:  *\n",
            "stack:  ['*']\n",
            "output:  5\n",
            "\n",
            "3번째 연산자\n",
            "token:  7\n",
            "output:  57\n",
            "\n",
            "4번째 연산자\n",
            "token:  +\n",
            "stack:  ['+']\n",
            "output:  57*\n",
            "\n",
            "5번째 연산자\n",
            "token:  1\n",
            "output:  57*1\n",
            "\n",
            "최종 결과:  57*1+\n"
          ]
        }
      ]
    },
    {
      "cell_type": "code",
      "source": [
        "e = Expression('a/(b-c+d)*(e-a)*c')\n",
        "e.infix_postfix()\n",
        "print(\"최종 결과: \", e.output)"
      ],
      "metadata": {
        "colab": {
          "base_uri": "https://localhost:8080/"
        },
        "id": "eaI_qLxJwauS",
        "outputId": "0f64df38-8653-4f15-d2c1-4271261ee841"
      },
      "execution_count": null,
      "outputs": [
        {
          "output_type": "stream",
          "name": "stdout",
          "text": [
            "1번째 연산자\n",
            "token:  a\n",
            "output:  a\n",
            "\n",
            "2번째 연산자\n",
            "token:  /\n",
            "stack:  ['/']\n",
            "output:  a\n",
            "\n",
            "3번째 연산자\n",
            "token:  (\n",
            "stack:  ['/', '(']\n",
            "output:  a\n",
            "\n",
            "4번째 연산자\n",
            "token:  b\n",
            "output:  ab\n",
            "\n",
            "5번째 연산자\n",
            "token:  -\n",
            "stack:  ['/', '(', '-']\n",
            "output:  ab\n",
            "\n",
            "6번째 연산자\n",
            "token:  c\n",
            "output:  abc\n",
            "\n",
            "7번째 연산자\n",
            "token:  +\n",
            "stack:  ['/', '(', '+']\n",
            "output:  abc-\n",
            "\n",
            "8번째 연산자\n",
            "token:  d\n",
            "output:  abc-d\n",
            "\n",
            "9번째 연산자\n",
            "token:  )\n",
            "output:  abc-d+\n",
            "\n",
            "10번째 연산자\n",
            "token:  *\n",
            "stack:  ['*']\n",
            "output:  abc-d+/\n",
            "\n",
            "11번째 연산자\n",
            "token:  (\n",
            "stack:  ['*', '(']\n",
            "output:  abc-d+/\n",
            "\n",
            "12번째 연산자\n",
            "token:  e\n",
            "output:  abc-d+/e\n",
            "\n",
            "13번째 연산자\n",
            "token:  -\n",
            "stack:  ['*', '(', '-']\n",
            "output:  abc-d+/e\n",
            "\n",
            "14번째 연산자\n",
            "token:  a\n",
            "output:  abc-d+/ea\n",
            "\n",
            "15번째 연산자\n",
            "token:  )\n",
            "output:  abc-d+/ea-\n",
            "\n",
            "16번째 연산자\n",
            "token:  *\n",
            "stack:  ['*']\n",
            "output:  abc-d+/ea-*\n",
            "\n",
            "17번째 연산자\n",
            "token:  c\n",
            "output:  abc-d+/ea-*c\n",
            "\n",
            "최종 결과:  abc-d+/ea-*c*\n"
          ]
        }
      ]
    },
    {
      "cell_type": "markdown",
      "source": [
        "## **후위 수식 계산**"
      ],
      "metadata": {
        "id": "UvhDSE3q1Qdf"
      }
    },
    {
      "cell_type": "code",
      "source": [
        "class Expression:\n",
        "  def __init__(self, expr):\n",
        "    self.stack = []\n",
        "    self.size = 100\n",
        "    self.expr = expr # 연산식을 문자열로 받아 self.expr에 저장\n",
        "    self.top = -1\n",
        "\n",
        "  # 스택 구현현\n",
        "  def isEmpty(self):\n",
        "    return len(self.stack) == 0\n",
        "\n",
        "  def isFull(self):\n",
        "    return self.size == len(self.stack)\n",
        "\n",
        "  def push(self,item):\n",
        "    if not self.isFull():\n",
        "      self.top += 1\n",
        "      self.stack.append(item)\n",
        "      self.view()\n",
        "    else: print(\"stack is full\")\n",
        "\n",
        "  def pop(self):\n",
        "    if not self.isEmpty():\n",
        "      self.top -= 1\n",
        "      return self.stack.pop()\n",
        "    else: print('stack is empty')\n",
        "\n",
        "  def view(self):\n",
        "    print(self.stack)\n",
        "\n",
        "  # 후위 수식 계산\n",
        "  def eval_postfix(self):\n",
        "    for sym in self.expr:\n",
        "      print(sym, end = ' ')\n",
        "      sym_type = self.getSymtype(sym) # 아래의 함수를 사용하여 연산자의 종류 또는 여부를 파악\n",
        "      if sym_type == 'Sym_OPERAND': # 숫자이면\n",
        "        self.push(int(sym)) # int형으로 변환 후 스택에 바로 추가\n",
        "      else:\n",
        "        op2 = self.pop() # op1 (연산자) op2 순으로 연산을 진행하기 위해\n",
        "        op1 = self.pop() # op2는 가장 끝의 원소, op1은 그 전 원소를 추출\n",
        "        if sym_type == 'Sym_PLUS': # 각 연산자의 종류에 맞게 연산 후 연산 결과를 다시 스택에 넣어줌\n",
        "          self.push(op1 + op2)\n",
        "        elif sym_type == 'Sym_MINUS':\n",
        "          self.push(op1 - op2)\n",
        "        elif sym_type == 'Sym_TIMES':\n",
        "          self.push(op1 * op2)\n",
        "        elif sym_type == 'Sym_DIVIDE':\n",
        "          self.push(op1 // op2)\n",
        "        elif sym_type == 'Sym_MOD':\n",
        "          self.push(op1 % op2)\n",
        "    return self.pop() # 모든 원소에 대해 연산이 이루어지고 나면 연산의 결과인 수 하나밖에 스택에 남지 않음 그걸 반환해주면 그게 바로 결과\n",
        "\n",
        "  # 각 연산자 파악\n",
        "  def getSymtype(self, sym):\n",
        "    if sym == '+' : sym_type = 'Sym_PLUS'\n",
        "    elif sym == '-' : sym_type = 'Sym_MINUS'\n",
        "    elif sym == '*' : sym_type = 'Sym_TIMES'\n",
        "    elif sym == '/' : sym_type = 'Sym_DIVIDE'\n",
        "    elif sym == '%' : sym_type = 'Sym_MOD'\n",
        "    else: sym_type = 'Sym_OPERAND'\n",
        "    return sym_type"
      ],
      "metadata": {
        "id": "duAQ0H0m1xTC"
      },
      "execution_count": null,
      "outputs": []
    },
    {
      "cell_type": "code",
      "source": [
        "e = Expression('57*9+34/-')\n",
        "e.eval_postfix()"
      ],
      "metadata": {
        "colab": {
          "base_uri": "https://localhost:8080/"
        },
        "id": "_pYV3HX93cuI",
        "outputId": "310db290-b871-45cf-d967-9222b7b13cc0"
      },
      "execution_count": null,
      "outputs": [
        {
          "output_type": "stream",
          "name": "stdout",
          "text": [
            "5 [5]\n",
            "7 [5, 7]\n",
            "* [35]\n",
            "9 [35, 9]\n",
            "+ [44]\n",
            "3 [44, 3]\n",
            "4 [44, 3, 4]\n",
            "/ [44, 0]\n",
            "- [44]\n"
          ]
        },
        {
          "output_type": "execute_result",
          "data": {
            "text/plain": [
              "44"
            ]
          },
          "metadata": {},
          "execution_count": 77
        }
      ]
    }
  ]
}