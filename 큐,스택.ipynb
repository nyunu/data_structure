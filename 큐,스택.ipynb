{
  "cells": [
    {
      "cell_type": "markdown",
      "metadata": {
        "id": "view-in-github",
        "colab_type": "text"
      },
      "source": [
        "<a href=\"https://colab.research.google.com/github/nyunu/data_structure/blob/main/%ED%81%90%2C%EC%8A%A4%ED%83%9D.ipynb\" target=\"_parent\"><img src=\"https://colab.research.google.com/assets/colab-badge.svg\" alt=\"Open In Colab\"/></a>"
      ]
    },
    {
      "cell_type": "markdown",
      "source": [
        "## **원형 큐 구현**\n",
        "- 무조건 한칸은 비워놓고 채움\n",
        "- front, rear는 인덱스이기 때문에 범주를 넘어서서는 안됨\n",
        "<br>**-> 그래서 (self.rear + 1) % self.size로 범주를 맞춰줌**\n",
        "- rear는 가장 마지막에 추가된 값의 인덱스로 값을 추가하기 전 값을 +1 해준 뒤 +1한 인덱스가 가리키는 위치에 값을 추가\n",
        "- front는 삭제된 값의 위치를 가리키는 인덱스로 +1을 먼저 해준뒤 +1한 인덱스가 가리키는 위치의 값을 삭제\n",
        "<br>**-> 결국 front가 가리키는 곳에는 데이터가 없는 것 !!!**\n",
        "<br><br>\n",
        "- **empty 조건 : self.front == self.rear**\n",
        "  - 새로 들어온 데이터의 인덱스가 삭제된 데이터의 인덱스와 같다는 건 새로 들어온 인덱스가 삭제되었다는 의미\n",
        "  - enqueue가 선행임 !! enqueue가 되어야 dequeue도 가능한 것\n",
        "  - => 데이터가 새로 들어왔을 때 그중 가장 새로 들어온 데이터의 인덱스가 self.rear였는데 그게 삭제되어서 self.front = self.rear가 성립된 것 !\n",
        "- **full 조건 : self.front == (self.rear + 1) % self.size**\n",
        "  - 원형 큐는 무조건 **한 칸은 비워놓고** 채움\n",
        "  - 저 식의 의미는 self.front가 현재 self.rear보다 값이 하나 더 높다는 의미인데\n",
        "  - front는 비어있는 데이터를 가리키는 인덱스 -> 무조건 한칸은 비워져 있어야 하는 원형큐의 특성 상 self.rear + 1이 front와 값이 같아진다는 의미는 rear가 한 칸을 더 채우면 큐의 모든 공간을 채우게 된다는 의미이므로 그 전에!! 한 칸이 남았을 때!! 이미 Full이라고 판단\n",
        "\n",
        "<br>\n",
        "\n",
        "- 의문점 : dequeue 함수에서 item의 필요성"
      ],
      "metadata": {
        "id": "86GjL1aDzTLA"
      }
    },
    {
      "cell_type": "code",
      "source": [
        "class CQueue:\n",
        "  def __init__(self, size):\n",
        "    self.front = 0\n",
        "    self.rear = 0\n",
        "    self.size = size\n",
        "    self.cqueue = [None] * self.size\n",
        "    self.count = 0\n",
        "\n",
        "  def enqueue(self, item):\n",
        "    if not self.isFull():\n",
        "      self.rear = (self.rear + 1) % self.size\n",
        "      self.cqueue[self.rear] = item\n",
        "      self.count += 1\n",
        "    else:\n",
        "      print(\"Queue full\")\n",
        "\n",
        "  def dequeue(self):\n",
        "    if not self.isEmpty():\n",
        "      self.front = (self.front + 1) % self.size\n",
        "      #item = self.cqueue[self.front]\n",
        "      self.cqueue[self.front] = None\n",
        "      self.count -= 1\n",
        "      #return item\n",
        "    else:\n",
        "      print(\"Queue Empty\")\n",
        "\n",
        "  def view(self):\n",
        "    print(self.cqueue)\n",
        "    print(f'rear = {self.rear}, front = {self.front}')\n",
        "\n",
        "  def isEmpty(self):\n",
        "    return self.front == self.rear\n",
        "\n",
        "  def isFull(self):\n",
        "    return self.front == (self.rear + 1) % self.size"
      ],
      "metadata": {
        "id": "LuYanZdvwJ1o"
      },
      "execution_count": null,
      "outputs": []
    },
    {
      "cell_type": "code",
      "source": [
        "q = CQueue(5)\n",
        "q.view()\n",
        "\n",
        "print()\n",
        "print('--------------------------------------------')\n",
        "print('[Enqueue 시작]')\n",
        "for i in range(6):\n",
        "  print(f'[{i+1}번째 enqueue]')\n",
        "  q.enqueue(i)\n",
        "  q.view()\n",
        "  print()\n",
        "\n",
        "print()\n",
        "print('--------------------------------------------')\n",
        "print('[Dequeue 시작]')\n",
        "for i in range(6):\n",
        "  print(f'[{i+1}번째 dequeue]')\n",
        "  q.dequeue()\n",
        "  q.view()\n",
        "  print()"
      ],
      "metadata": {
        "colab": {
          "base_uri": "https://localhost:8080/"
        },
        "id": "wZbDYkt_UR7T",
        "outputId": "b59e4d40-3d6d-43a5-923d-1cbde6d35f40"
      },
      "execution_count": null,
      "outputs": [
        {
          "output_type": "stream",
          "name": "stdout",
          "text": [
            "[None, None, None, None, None]\n",
            "rear = 0, front = 0\n",
            "\n",
            "--------------------------------------------\n",
            "[Enqueue 시작]\n",
            "[1번째 enqueue]\n",
            "[None, 0, None, None, None]\n",
            "rear = 1, front = 0\n",
            "\n",
            "[2번째 enqueue]\n",
            "[None, 0, 1, None, None]\n",
            "rear = 2, front = 0\n",
            "\n",
            "[3번째 enqueue]\n",
            "[None, 0, 1, 2, None]\n",
            "rear = 3, front = 0\n",
            "\n",
            "[4번째 enqueue]\n",
            "[None, 0, 1, 2, 3]\n",
            "rear = 4, front = 0\n",
            "\n",
            "[5번째 enqueue]\n",
            "Queue full\n",
            "[None, 0, 1, 2, 3]\n",
            "rear = 4, front = 0\n",
            "\n",
            "[6번째 enqueue]\n",
            "Queue full\n",
            "[None, 0, 1, 2, 3]\n",
            "rear = 4, front = 0\n",
            "\n",
            "\n",
            "--------------------------------------------\n",
            "[Dequeue 시작]\n",
            "[1번째 dequeue]\n",
            "[None, None, 1, 2, 3]\n",
            "rear = 4, front = 1\n",
            "\n",
            "[2번째 dequeue]\n",
            "[None, None, None, 2, 3]\n",
            "rear = 4, front = 2\n",
            "\n",
            "[3번째 dequeue]\n",
            "[None, None, None, None, 3]\n",
            "rear = 4, front = 3\n",
            "\n",
            "[4번째 dequeue]\n",
            "[None, None, None, None, None]\n",
            "rear = 4, front = 4\n",
            "\n",
            "[5번째 dequeue]\n",
            "Queue Empty\n",
            "[None, None, None, None, None]\n",
            "rear = 4, front = 4\n",
            "\n",
            "[6번째 dequeue]\n",
            "Queue Empty\n",
            "[None, None, None, None, None]\n",
            "rear = 4, front = 4\n",
            "\n"
          ]
        }
      ]
    },
    {
      "cell_type": "markdown",
      "source": [
        "## **스택 구현**\n",
        "- top을 인덱스로 사용하여 값을 추가하고, 삭제함\n",
        "  - top은 가장 나중에 들어온 값 & 가장 먼저 삭제되어야 할 값을 가리키는 인덱스\n",
        "- push할 때는 top을 먼저 증가시켜준뒤 증가시킨 인덱스에 값을 넣고\n",
        "  - top은 가장 나중에 들어온 값이기 때문에 그 뒤에 추가해야 됨\n",
        "  - 따라서 먼저 인덱스를 증가시켜줘야 함\n",
        "- pop할 때는 top에서 먼저 삭제시켜준뒤 인덱스를 감소시킴\n",
        "  - pop에서의 top은 가장 먼저 삭제되어야 할 값을 가리키기 때문에 현재 인덱스가 가리키는 값을 삭제해주어야 함\n",
        "  - 따라서 값을 삭제한 뒤 인덱스를 감소시켜줌"
      ],
      "metadata": {
        "id": "xEM0QxfVkDyn"
      }
    },
    {
      "cell_type": "markdown",
      "source": [
        "#### **1. 기본구현**"
      ],
      "metadata": {
        "id": "2u2xdK5HofQk"
      }
    },
    {
      "cell_type": "code",
      "source": [
        "class stack:\n",
        "  def __init__(self, size):\n",
        "      self.size = size\n",
        "      self.top = -1\n",
        "      self.stack = [None] * size\n",
        "\n",
        "  def viewstack(self):\n",
        "      print(self.stack)\n",
        "\n",
        "  def push(self,item):\n",
        "      if self.top < self.size - 1:\n",
        "          self.top += 1\n",
        "          self.stack[self.top] = item\n",
        "      else: print(\"stack is full\")\n",
        "\n",
        "  def pop(self):\n",
        "      temp = 0\n",
        "      if self.top > -1:\n",
        "          temp = self.top\n",
        "          self.stack[self.top] = None\n",
        "          self.top -= 1\n",
        "          return temp\n",
        "      else: print('stack is empty')\n",
        "\n",
        "s = stack(5)\n",
        "for i in [2,3,4,5,6,7]:\n",
        "    print(f\"{i-1}번째 push\")\n",
        "    s.push(i)\n",
        "    s.viewstack()\n",
        "    print()\n",
        "\n",
        "for i in range(6):\n",
        "    print(f\"{i + 1}번째 pop\")\n",
        "    s.pop()\n",
        "    s.viewstack()\n",
        "    print()"
      ],
      "metadata": {
        "colab": {
          "base_uri": "https://localhost:8080/"
        },
        "id": "oM87A-vukGbB",
        "outputId": "c4d7b579-9484-403d-f677-72fda044169b"
      },
      "execution_count": null,
      "outputs": [
        {
          "output_type": "stream",
          "name": "stdout",
          "text": [
            "1번째 push\n",
            "[2, None, None, None, None]\n",
            "\n",
            "2번째 push\n",
            "[2, 3, None, None, None]\n",
            "\n",
            "3번째 push\n",
            "[2, 3, 4, None, None]\n",
            "\n",
            "4번째 push\n",
            "[2, 3, 4, 5, None]\n",
            "\n",
            "5번째 push\n",
            "[2, 3, 4, 5, 6]\n",
            "\n",
            "6번째 push\n",
            "stack is full\n",
            "[2, 3, 4, 5, 6]\n",
            "\n",
            "1번째 pop\n",
            "[2, 3, 4, 5, None]\n",
            "\n",
            "2번째 pop\n",
            "[2, 3, 4, None, None]\n",
            "\n",
            "3번째 pop\n",
            "[2, 3, None, None, None]\n",
            "\n",
            "4번째 pop\n",
            "[2, None, None, None, None]\n",
            "\n",
            "5번째 pop\n",
            "[None, None, None, None, None]\n",
            "\n",
            "6번째 pop\n",
            "stack is empty\n",
            "[None, None, None, None, None]\n",
            "\n"
          ]
        }
      ]
    },
    {
      "cell_type": "code",
      "source": [
        "s = stack(5)\n",
        "s.push(1)\n",
        "s.pop()"
      ],
      "metadata": {
        "colab": {
          "base_uri": "https://localhost:8080/"
        },
        "id": "IiC4KOrAoEf3",
        "outputId": "a5e9be9a-1b3a-41eb-c22e-73331041701a"
      },
      "execution_count": null,
      "outputs": [
        {
          "output_type": "execute_result",
          "data": {
            "text/plain": [
              "0"
            ]
          },
          "metadata": {},
          "execution_count": 7
        }
      ]
    },
    {
      "cell_type": "markdown",
      "source": [
        "#### **2. 파이썬 스택 구현**\n",
        "- 차이점 : top 없어도 됨 !! -> 대신 내장 함수인 append, pop 사용"
      ],
      "metadata": {
        "id": "Bp-mDrFEokJf"
      }
    },
    {
      "cell_type": "code",
      "source": [
        "class stack:\n",
        "  def __init__(self, size):\n",
        "    self.size = size\n",
        "    self.stack = []\n",
        "\n",
        "  def viewstack(self):\n",
        "    print(self.stack)\n",
        "\n",
        "  def push(self,item):\n",
        "    if len(self.stack) < self.size:\n",
        "      self.stack.append(item)\n",
        "    else: print(\"stack is full\")\n",
        "\n",
        "  def pop(self):\n",
        "    temp = 0\n",
        "    if not self.stack:\n",
        "      print('stack is empty')\n",
        "    else: return self.stack.pop()\n",
        "\n",
        "s = stack(5)\n",
        "for i in [2,3,4,5,6,7]:\n",
        "    print(f\"{i-1}번째 push\")\n",
        "    s.push(i)\n",
        "    s.viewstack()\n",
        "    print()\n",
        "\n",
        "for i in range(6):\n",
        "    print(f\"{i + 1}번째 pop\")\n",
        "    s.pop()\n",
        "    s.viewstack()\n",
        "    print()"
      ],
      "metadata": {
        "colab": {
          "base_uri": "https://localhost:8080/"
        },
        "id": "oaZe3pJ5opRx",
        "outputId": "3cc5f52d-51f9-49ca-ca14-be93ef32fe2c"
      },
      "execution_count": null,
      "outputs": [
        {
          "output_type": "stream",
          "name": "stdout",
          "text": [
            "1번째 push\n",
            "[2]\n",
            "\n",
            "2번째 push\n",
            "[2, 3]\n",
            "\n",
            "3번째 push\n",
            "[2, 3, 4]\n",
            "\n",
            "4번째 push\n",
            "[2, 3, 4, 5]\n",
            "\n",
            "5번째 push\n",
            "[2, 3, 4, 5, 6]\n",
            "\n",
            "6번째 push\n",
            "stack is full\n",
            "[2, 3, 4, 5, 6]\n",
            "\n",
            "1번째 pop\n",
            "[2, 3, 4, 5]\n",
            "\n",
            "2번째 pop\n",
            "[2, 3, 4]\n",
            "\n",
            "3번째 pop\n",
            "[2, 3]\n",
            "\n",
            "4번째 pop\n",
            "[2]\n",
            "\n",
            "5번째 pop\n",
            "[]\n",
            "\n",
            "6번째 pop\n",
            "stack is empty\n",
            "[]\n",
            "\n"
          ]
        }
      ]
    },
    {
      "cell_type": "markdown",
      "source": [
        "## **큐 구현**"
      ],
      "metadata": {
        "id": "cWxa61rEqGSG"
      }
    },
    {
      "cell_type": "markdown",
      "source": [
        "#### **1. 기본 큐 구현**"
      ],
      "metadata": {
        "id": "1eDPI8VaRzh9"
      }
    },
    {
      "cell_type": "code",
      "source": [
        "class Queue:\n",
        "  def __init__(self, size):\n",
        "    self.size = size\n",
        "    self.queue = [None] * size\n",
        "    self.front = -1\n",
        "    self.rear = -1\n",
        "\n",
        "  def isEmpty(self):\n",
        "    return self.front == self.rear\n",
        "\n",
        "  def isFull(self):\n",
        "    return self.rear == self.size - 1\n",
        "\n",
        "  def enqueue(self, item):\n",
        "    if not self.isFull():\n",
        "      self.rear += 1\n",
        "      self.queue[self.rear] = item\n",
        "    else: print('Queue full')\n",
        "\n",
        "  def dequeue(self):\n",
        "    #temp = 0\n",
        "    if not self.isEmpty():\n",
        "      self.front += 1\n",
        "      #temp = self.queue[self.front]\n",
        "      self.queue[self.front] = None\n",
        "      #return temp\n",
        "    else: print('Queue empty')\n",
        "\n",
        "  def view(self):\n",
        "    print(self.queue)\n",
        "    print('rear = %d front = %d' %(self.rear, self.front))"
      ],
      "metadata": {
        "id": "l8F2bzmNPybI"
      },
      "execution_count": null,
      "outputs": []
    },
    {
      "cell_type": "code",
      "source": [
        "q = Queue(5)\n",
        "for i in [2,3,4,5,6,7]:\n",
        "    print(f\"{i-1}번째 enqueue\")\n",
        "    q.enqueue(i)\n",
        "    q.view()\n",
        "    print()\n",
        "\n",
        "for i in range(6):\n",
        "    print(f\"{i + 1}번째 dequeue\")\n",
        "    q.dequeue()\n",
        "    q.view()\n",
        "    print()"
      ],
      "metadata": {
        "colab": {
          "base_uri": "https://localhost:8080/"
        },
        "id": "m4_BuB1gRDmH",
        "outputId": "554648b9-3f94-47bc-d664-c49b39f50f21"
      },
      "execution_count": null,
      "outputs": [
        {
          "output_type": "stream",
          "name": "stdout",
          "text": [
            "1번째 enqueue\n",
            "[2, None, None, None, None]\n",
            "rear = 0 front = -1\n",
            "\n",
            "2번째 enqueue\n",
            "[2, 3, None, None, None]\n",
            "rear = 1 front = -1\n",
            "\n",
            "3번째 enqueue\n",
            "[2, 3, 4, None, None]\n",
            "rear = 2 front = -1\n",
            "\n",
            "4번째 enqueue\n",
            "[2, 3, 4, 5, None]\n",
            "rear = 3 front = -1\n",
            "\n",
            "5번째 enqueue\n",
            "[2, 3, 4, 5, 6]\n",
            "rear = 4 front = -1\n",
            "\n",
            "6번째 enqueue\n",
            "Queue full\n",
            "[2, 3, 4, 5, 6]\n",
            "rear = 4 front = -1\n",
            "\n",
            "1번째 dequeue\n",
            "[None, 3, 4, 5, 6]\n",
            "rear = 4 front = 0\n",
            "\n",
            "2번째 dequeue\n",
            "[None, None, 4, 5, 6]\n",
            "rear = 4 front = 1\n",
            "\n",
            "3번째 dequeue\n",
            "[None, None, None, 5, 6]\n",
            "rear = 4 front = 2\n",
            "\n",
            "4번째 dequeue\n",
            "[None, None, None, None, 6]\n",
            "rear = 4 front = 3\n",
            "\n",
            "5번째 dequeue\n",
            "[None, None, None, None, None]\n",
            "rear = 4 front = 4\n",
            "\n",
            "6번째 dequeue\n",
            "Queue empty\n",
            "[None, None, None, None, None]\n",
            "rear = 4 front = 4\n",
            "\n"
          ]
        }
      ]
    },
    {
      "cell_type": "code",
      "source": [
        "q = Queue(5)\n",
        "for i in [2,3,4,5,6,7]:\n",
        "    print(f\"{i-1}번째 enqueue\")\n",
        "    q.enqueue(i)\n",
        "    q.view()\n",
        "    print()\n",
        "\n",
        "for i in range(6):\n",
        "    print(f\"{i + 1}번째 dequeue\")\n",
        "    q.dequeue()\n",
        "    q.view()\n",
        "    print()"
      ],
      "metadata": {
        "colab": {
          "base_uri": "https://localhost:8080/"
        },
        "id": "Ki1b4nIFRhIS",
        "outputId": "2fefe31c-b5b6-46be-8a03-8e03b36e0eb7"
      },
      "execution_count": null,
      "outputs": [
        {
          "output_type": "stream",
          "name": "stdout",
          "text": [
            "1번째 enqueue\n",
            "[2, None, None, None, None]\n",
            "rear = 0 front = -1\n",
            "\n",
            "2번째 enqueue\n",
            "[2, 3, None, None, None]\n",
            "rear = 1 front = -1\n",
            "\n",
            "3번째 enqueue\n",
            "[2, 3, 4, None, None]\n",
            "rear = 2 front = -1\n",
            "\n",
            "4번째 enqueue\n",
            "[2, 3, 4, 5, None]\n",
            "rear = 3 front = -1\n",
            "\n",
            "5번째 enqueue\n",
            "[2, 3, 4, 5, 6]\n",
            "rear = 4 front = -1\n",
            "\n",
            "6번째 enqueue\n",
            "Queue full\n",
            "[2, 3, 4, 5, 6]\n",
            "rear = 4 front = -1\n",
            "\n",
            "1번째 dequeue\n",
            "[None, 3, 4, 5, 6]\n",
            "rear = 4 front = 0\n",
            "\n",
            "2번째 dequeue\n",
            "[None, None, 4, 5, 6]\n",
            "rear = 4 front = 1\n",
            "\n",
            "3번째 dequeue\n",
            "[None, None, None, 5, 6]\n",
            "rear = 4 front = 2\n",
            "\n",
            "4번째 dequeue\n",
            "[None, None, None, None, 6]\n",
            "rear = 4 front = 3\n",
            "\n",
            "5번째 dequeue\n",
            "[None, None, None, None, None]\n",
            "rear = 4 front = 4\n",
            "\n",
            "6번째 dequeue\n",
            "Queue empty\n",
            "[None, None, None, None, None]\n",
            "rear = 4 front = 4\n",
            "\n"
          ]
        }
      ]
    },
    {
      "cell_type": "markdown",
      "source": [
        "#### **2. 파이썬 큐 구현**"
      ],
      "metadata": {
        "id": "sISIdZtaR79A"
      }
    },
    {
      "cell_type": "code",
      "source": [
        "class Queue:\n",
        "  def __init__(self, size):\n",
        "    self.size = size\n",
        "    self.queue = []\n",
        "\n",
        "  def isFull(self):\n",
        "    return self.size == len(self.queue)\n",
        "\n",
        "  def isEmpty(self):\n",
        "    return not self.queue\n",
        "\n",
        "  def enqueue(self, item):\n",
        "    if not self.isFull():\n",
        "      self.queue.append(item)\n",
        "    else: print(\"Queue Full\")\n",
        "\n",
        "  def dequeue(self):\n",
        "    if not self.isEmpty():\n",
        "      self.queue.pop(0)\n",
        "    else: print(\"Queue Empty\")\n",
        "\n",
        "  def view(self):\n",
        "    print(self.queue)"
      ],
      "metadata": {
        "id": "_r6LfxkJR_GC"
      },
      "execution_count": null,
      "outputs": []
    },
    {
      "cell_type": "code",
      "source": [
        "q = Queue(5)\n",
        "for i in [2,3,4,5,6,7]:\n",
        "    print(f\"{i-1}번째 enqueue\")\n",
        "    q.enqueue(i)\n",
        "    q.view()\n",
        "    print()\n",
        "\n",
        "for i in range(6):\n",
        "    print(f\"{i + 1}번째 dequeue\")\n",
        "    q.dequeue()\n",
        "    q.view()\n",
        "    print()"
      ],
      "metadata": {
        "colab": {
          "base_uri": "https://localhost:8080/"
        },
        "id": "ZDo5sDXHS6OV",
        "outputId": "c8c92ff1-3284-4f44-fb90-d8c30c1825db"
      },
      "execution_count": null,
      "outputs": [
        {
          "output_type": "stream",
          "name": "stdout",
          "text": [
            "1번째 enqueue\n",
            "[2]\n",
            "\n",
            "2번째 enqueue\n",
            "[2, 3]\n",
            "\n",
            "3번째 enqueue\n",
            "[2, 3, 4]\n",
            "\n",
            "4번째 enqueue\n",
            "[2, 3, 4, 5]\n",
            "\n",
            "5번째 enqueue\n",
            "[2, 3, 4, 5, 6]\n",
            "\n",
            "6번째 enqueue\n",
            "Queue Full\n",
            "[2, 3, 4, 5, 6]\n",
            "\n",
            "1번째 dequeue\n",
            "[3, 4, 5, 6]\n",
            "\n",
            "2번째 dequeue\n",
            "[4, 5, 6]\n",
            "\n",
            "3번째 dequeue\n",
            "[5, 6]\n",
            "\n",
            "4번째 dequeue\n",
            "[6]\n",
            "\n",
            "5번째 dequeue\n",
            "[]\n",
            "\n",
            "6번째 dequeue\n",
            "Queue Empty\n",
            "[]\n",
            "\n"
          ]
        }
      ]
    }
  ],
  "metadata": {
    "colab": {
      "provenance": [],
      "toc_visible": true,
      "authorship_tag": "ABX9TyNi4dvdZX/xc+bdo+8h5qhr",
      "include_colab_link": true
    },
    "kernelspec": {
      "display_name": "Python 3",
      "name": "python3"
    },
    "language_info": {
      "name": "python"
    }
  },
  "nbformat": 4,
  "nbformat_minor": 0
}