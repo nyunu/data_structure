{
  "nbformat": 4,
  "nbformat_minor": 0,
  "metadata": {
    "colab": {
      "provenance": [],
      "authorship_tag": "ABX9TyMYzqQRh1atbRNyrzoXgeQp",
      "include_colab_link": true
    },
    "kernelspec": {
      "name": "python3",
      "display_name": "Python 3"
    },
    "language_info": {
      "name": "python"
    }
  },
  "cells": [
    {
      "cell_type": "markdown",
      "metadata": {
        "id": "view-in-github",
        "colab_type": "text"
      },
      "source": [
        "<a href=\"https://colab.research.google.com/github/nyunu/data_structure/blob/main/%EA%B0%9C%EC%9A%94.ipynb\" target=\"_parent\"><img src=\"https://colab.research.google.com/assets/colab-badge.svg\" alt=\"Open In Colab\"/></a>"
      ]
    },
    {
      "cell_type": "markdown",
      "source": [
        "# **[CHAPTER 1] 자료구조 개요**"
      ],
      "metadata": {
        "id": "sL3rLFvuj5JG"
      }
    },
    {
      "cell_type": "markdown",
      "source": [
        "## **1.1 소프트웨어와 자료구조**"
      ],
      "metadata": {
        "id": "yOtb__r5j0Mv"
      }
    },
    {
      "cell_type": "markdown",
      "source": [
        "## **1.2 소프트웨어 개발주기**"
      ],
      "metadata": {
        "id": "AYvxsiNUkHD-"
      }
    },
    {
      "cell_type": "markdown",
      "source": [
        "## **1.3 알고리즘 정의**"
      ],
      "metadata": {
        "id": "g1dZXPggkJ23"
      }
    },
    {
      "cell_type": "markdown",
      "source": [
        "#### **예제 1: 피보나치 수열**\n",
        "조건1) F0 = 0 <br>\n",
        "조건2) F1 = 1 <br>\n",
        "조건3) Fi = Fi-1 + Fi-2 <br>"
      ],
      "metadata": {
        "id": "FOr955mOkOkO"
      }
    },
    {
      "cell_type": "code",
      "source": [
        "def fibo(fb):\n",
        "  a = 0\n",
        "  b = 1\n",
        "  while True: # 무한 반복문\n",
        "    a, b = b, a+b # a에는 b의 값을, b에는 a+b의 값을 할당하여\n",
        "    if b > n: break # a+b의 값이 주어진 n의 값보다 클 경우 반목문을 빠져나감\n",
        "    fb.append(b) # 반복문이 중지되지 않았다면 b의 값을 fb라는 리스트에 추가\n",
        "\n",
        "n = 100000\n",
        "fb = [0,1]\n",
        "fibo(fb)\n",
        "print(fb)\n",
        "print(\"# of fibos\", len(fb))"
      ],
      "metadata": {
        "colab": {
          "base_uri": "https://localhost:8080/"
        },
        "id": "M2qT_X6hj462",
        "outputId": "db608668-385e-4e07-a598-db6a8b0a4179"
      },
      "execution_count": null,
      "outputs": [
        {
          "output_type": "stream",
          "name": "stdout",
          "text": [
            "[0, 1, 1, 2, 3, 5, 8, 13, 21, 34, 55, 89, 144, 233, 377, 610, 987, 1597, 2584, 4181, 6765, 10946, 17711, 28657, 46368, 75025]\n",
            "# of fibos 26\n"
          ]
        }
      ]
    },
    {
      "cell_type": "markdown",
      "source": [
        "#### **예제 2: 소수 찾기**"
      ],
      "metadata": {
        "id": "GJdagQAwlzXv"
      }
    },
    {
      "cell_type": "code",
      "execution_count": null,
      "metadata": {
        "colab": {
          "base_uri": "https://localhost:8080/"
        },
        "id": "1en0dWRQjsiw",
        "outputId": "9ed746cb-4be2-45c5-d23d-17990311c7b3"
      },
      "outputs": [
        {
          "output_type": "stream",
          "name": "stdout",
          "text": [
            "  2  3.  5.  7... 11. 13... 17. 19... 23..... 29. 31..... 37... 41. 43... 47...\n",
            ".. 53..... 59. 61..... 67... 71. 73..... 79... 83..... 89....... 97...\n",
            "101.103...107.109...113.............127...131.....137.139.........149.\n",
            "151.....157.....163...167.....173.....179.181.........191.193...197.199.\n",
            "..........211...........223...227.229...233.....239.241.........\n",
            "251.....257.....263.....269.271.....277...281.283.........293.......\n",
            "......307...311.313...317.............331.....337.........347.349.\n",
            "..353.....359.......367.....373.....379...383.....389.......397...\n",
            "401.......409.........419.421.........431.433.....439...443.....449.\n",
            "......457...461.463...467...........479.......487...491.......499.\n",
            "..503.....509...........521.523.................541.....547...\n",
            "......557.....563.....569.571.....577.........587.....593.....599.\n",
            "601.....607.....613...617.619...........631.........641.643...647...\n",
            "..653.....659.661...........673...677.....683.......691.........\n",
            "701.......709.........719.......727.....733.....739...743.......\n",
            "751.....757...761.......769...773.............787.........797...\n",
            "........809.811.........821.823...827.829.........839...........\n",
            "..853...857.859...863.............877...881.883...887.............\n",
            "......907...911.......919.........929.......937...941.....947...\n",
            "..953.............967...971.....977.....983.......991.....997...\n",
            "\n",
            "# of prime numbers =  168\n"
          ]
        }
      ],
      "source": [
        "def find_prime(num): # num은 소수를 찾을 때 최대가 되는 숫자\n",
        "  for i in range(2, num+1): # range(2, num+1) = 2부터 num까지의 수 / i는 나눠지는 수 (1 포함 X)\n",
        "    prime = 1 # True의 의미\n",
        "    for j in range (2, i): # range (2, i) = 2부터 i-1까지의 수 / j는 나누는 수\n",
        "      if i % j == 0: # i와 j를 나눴을 때 나머지가 0이 된다는 것은 1 이외에 약수가 있다는 의미\n",
        "        prime = 0 # False의 의미\n",
        "        break\n",
        "    if prime: # prime이 1이라면 = prime이 True이면\n",
        "      prime_list.append(i) # prime_list에 i값을 추가\n",
        "\n",
        "max_num = 1000\n",
        "prime_list = []\n",
        "find_prime(max_num)\n",
        "\n",
        "# 출력 반복문\n",
        "for i in range(2, max_num+1):\n",
        "  if i in prime_list:\n",
        "    print('%3d' % i, end = \"\")\n",
        "  else:\n",
        "    print('.', end = \"\")\n",
        "  if i % 50 == 0: print()\n",
        "\n",
        "print()\n",
        "print(\"# of prime numbers = \", len(prime_list))"
      ]
    },
    {
      "cell_type": "markdown",
      "source": [
        "## **1.4 추상 자료형**"
      ],
      "metadata": {
        "id": "XzILq0jPrKqe"
      }
    },
    {
      "cell_type": "markdown",
      "source": [
        "#### **예제 1: 분수 연산과 출력**"
      ],
      "metadata": {
        "id": "mMbHrOQt4Kvz"
      }
    },
    {
      "cell_type": "code",
      "source": [
        "class Fraction:\n",
        "  def _init_(self, up, down):\n",
        "    self.num = up\n",
        "    self.den = down\n",
        "\n",
        "  def _str_(self):\n",
        "    return str(self.num) + \"/\" + str(self.den)\n",
        "\n",
        "  def gcd(self, a, b):\n",
        "    while a % b != 0:\n",
        "      a, b = b, a % b\n",
        "    return b\n",
        "\n",
        "  def _add_(self, other):\n",
        "    new_num ="
      ],
      "metadata": {
        "id": "QWK7fHimrKJw"
      },
      "execution_count": null,
      "outputs": []
    }
  ]
}