{
  "nbformat": 4,
  "nbformat_minor": 0,
  "metadata": {
    "colab": {
      "provenance": [],
      "authorship_tag": "ABX9TyPaYSloiSAUwr3uCcBKcqt5",
      "include_colab_link": true
    },
    "kernelspec": {
      "name": "python3",
      "display_name": "Python 3"
    },
    "language_info": {
      "name": "python"
    }
  },
  "cells": [
    {
      "cell_type": "markdown",
      "metadata": {
        "id": "view-in-github",
        "colab_type": "text"
      },
      "source": [
        "<a href=\"https://colab.research.google.com/github/nyunu/data_structure/blob/main/%EC%B5%9C%EB%8C%80%ED%9E%99.ipynb\" target=\"_parent\"><img src=\"https://colab.research.google.com/assets/colab-badge.svg\" alt=\"Open In Colab\"/></a>"
      ]
    },
    {
      "cell_type": "code",
      "execution_count": 7,
      "metadata": {
        "id": "u-6sw2eqY-AM"
      },
      "outputs": [],
      "source": [
        "class Heap:\n",
        "  def __init__(self, size):\n",
        "    self.size = size\n",
        "    self.heap = [None] * size\n",
        "    self.count = 0\n",
        "      # 트리 내의 데이터 개수(노드 개수)\n",
        "  \n",
        "  def __str__(self):\n",
        "    return \"Heap, 0 is Dummy\"\n",
        "  \n",
        "  def add_heap(self, item):\n",
        "    if self.isFull(): return\n",
        "    self.count += 1\n",
        "      # 노드 개수 +1\n",
        "    i = self.count\n",
        "      # i는 item노드를 추가한 트리의 노드 총 개수 -> item 노드가 추가되었을 때의 마지막 노드를 가리킴\n",
        "      # add_heap의 위치는 아래 -> 위 방향으로 탐색하며 찾아나감\n",
        "      # i는 우리가 추가하려는 노드의 번호호\n",
        "    while i != 1 and item > self.heap[i // 2]: \n",
        "        # i가 1이라면 -> 루트 노드를 가리킴 -> 가장 마지막 노드부터 비교를 시작하기 때문에 -> i가 루트 노드를 가리킨다는 건 -> i가 가리키는 가장 큰 값이라는 의미이고 더이상 탐색할 위치가 없음을 의미 -> while문 break \n",
        "        # i가 1이 아니라면 -> 위로 더 이동하면서 탐색할 위치가 존재함\n",
        "        # item > self.head[i//2] = 부모 노드보다 큰 값을 가질 때\n",
        "        # 결론적으로, 추가하려는 노드의 값이 부모 노드보다 큰 값을 가지고, 위의 레벨이 존재해 더 탐색할 위치가 남아있는 동안 while문을 실행\n",
        "      self.heap[i] = self.heap[i // 2]\n",
        "        # 부모노드의 값을 i번째 노드의 값에 넣고 부모노드는 빈 노드가 되도록 함 -> 만약 while문이 break되면 빈 부모노드에 item의 값을 넣는 것\n",
        "      i //= 2\n",
        "        # 부모노드의 번호로 i의 값을 업데이트\n",
        "    self.heap[i] = item\n",
        "      # 위의 while문이 break되면 가장 마지막으로 탐색한 빈 부모노드에 item의 값을 넣어 추가를 완료\n",
        "    print(\"%2d\" %item, end = ' ')\n",
        "  \n",
        "  def isEmpty(self): return self.count == 0\n",
        "  \n",
        "  def isFull(self):return self.size - 1 == self.count\n",
        "\n",
        "  def del_heap(self):\n",
        "    if self.isEmpty():\n",
        "      print(\"Empty heap\")\n",
        "      return\n",
        "    item = self.heap[1]\n",
        "      # item = 루트노드의 값 (삭제된 값 리턴해주기 위한 용도도)\n",
        "    temp = self.heap[self.count]\n",
        "      # temp = 트리의 가장 마지막 노드의 값 -> 우리가 위치를 찾아주어야 하는 데이터\n",
        "    self.heap[self.count] = None\n",
        "      # 트리의 가장 마지막 노드를 삭제\n",
        "    self.count -= 1\n",
        "      # 노드 개수 -1\n",
        "    parent = 1\n",
        "      # 루트노드부터 시작 -> 현재 루트 노드는 비어 있는 것으로 간주 -> 빈 노드\n",
        "      # => parent 노드가 temp값을 넣을 노드 !\n",
        "    child = 2\n",
        "      # 루트노드의 child 노드부터 시작\n",
        "    while child <= self.count:\n",
        "        # 총 노드의 개수보다 child가 커지면 -> break\n",
        "      if child < self.count and self.heap[child] < self.heap[child + 1]:\n",
        "          # child < self.count : 자식 노드가 두 개고 (child = self.count -> 리프 노드의 자식노드가 한개개)\n",
        "          # self.heap[child] < self.heap[child + 1] : 그 중 오른쪽 자식노드가 더 크면\n",
        "        child += 1\n",
        "          # 오른쪽 자식노드의 번호로 child값을 업데이트\n",
        "      if temp >= self.heap[child]: break\n",
        "        # temp는 위치를 찾아야 하는 데이터 -> child가 가리키는 값보다 크거나 같다 = 현재 parent가 가리키는 번호가 바로 temp의 노드 번호가 되는 것 -> break\n",
        "      self.heap[parent] = self.heap[child]\n",
        "        # child 노드가 가리키는 값이 temp보다 클 때\n",
        "        # child 노드가 가리키는 값을 parent 노드(빈 노드)에 넣어서 child노드가 temp보다 레벨이 더 높도록록\n",
        "      parent = child\n",
        "        # child 노드가 비어 있으므로 child노드를 parent에 넣어 parent가 다시 빈노드가 되도록\n",
        "      child *= 2\n",
        "        # child 노드는 아래 레벨을 가리킴\n",
        "    self.heap[parent] = temp\n",
        "      # parent 자리에 temp값을 넣어 완성\n",
        "    return item"
      ]
    },
    {
      "cell_type": "code",
      "source": [
        "h = Heap(12)\n",
        "num = [0,2,7,5,9,4,2,9,0,10,60]\n",
        "print(h)\n",
        "\n",
        "print(\"Insert into Heap\")\n",
        "for i in num:\n",
        "  h.add_heap(i)\n",
        "print()\n",
        "print(\"count =\", h.count)\n",
        "\n",
        "print(\"Delete from Heap\")\n",
        "for i in range(h.count):\n",
        "  print(h.heap)\n",
        "  print(h.del_heap(), end = ' => ')\n",
        "print(h.heap)"
      ],
      "metadata": {
        "colab": {
          "base_uri": "https://localhost:8080/"
        },
        "id": "EktQ1c1Kg8XP",
        "outputId": "a043f3c5-2926-413d-9787-3d8881c41a88"
      },
      "execution_count": 9,
      "outputs": [
        {
          "output_type": "stream",
          "name": "stdout",
          "text": [
            "Heap, 0 is Dummy\n",
            "Insert into Heap\n",
            " 0  2  7  5  9  4  2  9  0 10 60 \n",
            "count = 11\n",
            "Delete from Heap\n",
            "[None, 60, 10, 4, 7, 9, 2, 2, 0, 0, 5, 9]\n",
            "60 => [None, 10, 9, 4, 7, 9, 2, 2, 0, 0, 5, None]\n",
            "10 => [None, 9, 9, 4, 7, 5, 2, 2, 0, 0, None, None]\n",
            "9 => [None, 9, 7, 4, 0, 5, 2, 2, 0, None, None, None]\n",
            "9 => [None, 7, 5, 4, 0, 0, 2, 2, None, None, None, None]\n",
            "7 => [None, 5, 2, 4, 0, 0, 2, None, None, None, None, None]\n",
            "5 => [None, 4, 2, 2, 0, 0, None, None, None, None, None, None]\n",
            "4 => [None, 2, 0, 2, 0, None, None, None, None, None, None, None]\n",
            "2 => [None, 2, 0, 0, None, None, None, None, None, None, None, None]\n",
            "2 => [None, 0, 0, None, None, None, None, None, None, None, None, None]\n",
            "0 => [None, 0, None, None, None, None, None, None, None, None, None, None]\n",
            "0 => [None, 0, None, None, None, None, None, None, None, None, None, None]\n"
          ]
        }
      ]
    },
    {
      "cell_type": "markdown",
      "source": [
        "## 우선순위 큐"
      ],
      "metadata": {
        "id": "asbTQhgfKgp1"
      }
    },
    {
      "cell_type": "code",
      "source": [
        "class PriorityQ:\n",
        "  def __init__(self, size):\n",
        "    self.hs = Heap(size)\n",
        "    self.heap = self.hs.heap\n",
        "    self.count = self.hs.count\n",
        "  \n",
        "  def __str__(self):\n",
        "    return \"Priority Queue\"\n",
        "  \n",
        "  def enqueue(self, item):\n",
        "    self.hs.add_heap(item)\n",
        "    self.count = self.hs.count\n",
        "  \n",
        "  def dequeue(self):\n",
        "    item = self.hs.del_heap()\n",
        "    self.count = self.hs.count\n",
        "    return item"
      ],
      "metadata": {
        "id": "_snINeE3NETw"
      },
      "execution_count": 10,
      "outputs": []
    },
    {
      "cell_type": "markdown",
      "source": [
        "## 힙정렬"
      ],
      "metadata": {
        "id": "39zLjm9nbu_E"
      }
    },
    {
      "cell_type": "markdown",
      "source": [
        "heap은 이미 최대힙이기때문에 루트값이 트리 내에서 가장 큰 값이고 -> 자식 노드의 레벨에 있는 값 -> 그 다음 자식 노드의 레벨에 있는 값 순으로 값의 크기가 점점 작아짐\n",
        "<br>\n",
        "- 가장 먼저는 루트의 값을 가장 마지막 노드와 swap하고 swap된 마지막 노드는 제외하고 원래 마지막 노드에 있던 값의 위치를 찾아줌 \n",
        "  = 원래 루트 노드에 있던 값은 가장 마지막 노드에 고정됨\n",
        "- 그렇게 하면 루트 노드의 자식 노드 중 더 큰값과 마지막 노드에 있던 값이 비교되면서 루트 노드의 자식 노드 중 더 큰 값이 루트노드의 자리에 가게 됨\n",
        "- 그러면 다시 루트 노드와 아까 고정한 값 앞의 번호인 노드를 swap하고 루트노드의 값을 마지막 노드에 고정해줌\n",
        "- 이 과정을 계속 반복하면 가장 마지막 노드부터 역순으로 큰 값부터 정렬됨"
      ],
      "metadata": {
        "id": "nWZ9K4aHWQxB"
      }
    },
    {
      "cell_type": "code",
      "source": [
        "class Heap:\n",
        "  def __init__(self, size):\n",
        "    self.size = size\n",
        "    self.heap = [None] * size\n",
        "    self.count = 0\n",
        "  \n",
        "  def __str__(self):\n",
        "    return \"Heap, 0 is Dummy\"\n",
        "  \n",
        "  def shiftdown(self, root, n):\n",
        "      # root : shiftdown할 노드 번호 / n : 데이터 크기\n",
        "    temp = self.heap[root]\n",
        "      # shiftdown할 노드의 데이터를 temp에 저장\n",
        "    child = 2 * root \n",
        "      # child는 shiftdown할 노드의 왼쪽 자식 노드를 가리킴\n",
        "    while child <= n:\n",
        "        # 자식 노드의 번호가 전체 데이터 개수보다 작거나 같을 때까지 반복\n",
        "      if child < n and self.heap[child] < self.heap[child + 1]:\n",
        "          # 자식 노드가 두개이고 & 오른쪽 자식노드가 왼쪽 자식노드보다 큰 값을 가질 때\n",
        "        child = child + 1\n",
        "          # child는 오른쪽 자식 노드를 가리키도록\n",
        "      if temp > self.heap[child]: break\n",
        "        # child 노드의 값이 temp보다 작으면 temp가 곧 child의 parent 노드이므로 break\n",
        "      else:\n",
        "        # child 노드의 값이 temp보다 크거나 같으면\n",
        "        self.heap[child // 2] = self.heap[child]\n",
        "          # child 노드의 값을 parent 노드에 넣어주고\n",
        "        child *= 2\n",
        "          # child 노드는 아래 레벨을 가리킴\n",
        "    self.heap[child // 2] = temp\n",
        "      # 모든 반복문이 끝나면 child의 parent 노드에 temp값을 넣어줌줌\n",
        "  \n",
        "  def swap(self, a, b):\n",
        "      # a, b값을 교환\n",
        "    temp = self.heap[a]\n",
        "      # temp는 a노드의 값을 담고\n",
        "    self.heap[a] = self.heap[b]\n",
        "      # a노드는 b노드의 값을 담고\n",
        "    self.heap[b] = temp\n",
        "      # b노드는 temp(원래 a노드의 값)의 값을 담음으로써\n",
        "      # a노드의 값 <-> b노드의 값\n",
        "  \n",
        "  def makeheap(self, root, n):\n",
        "    # 최대 힙 생성\n",
        "    for i in range(n // 2, 0, -1):\n",
        "        # n//2 인 이유 : 자식 노드가 있는 노드에 대해 시행해야 하기 때문에 자식노드가 있는 노드 중 가장 마지막 노드의 번호가 n//2\n",
        "        # 간격이 -1인 이유 : 마지막 노드부터 시행해야 하기 때문에\n",
        "      self.shiftdown(i, n)\n",
        "  \n",
        "  def sort(self, list):\n",
        "    self.heap = list\n",
        "    self.count = len(list) - 1\n",
        "    self.makeheap(1, self.count)\n",
        "      # makeheap 호출 -> shiftdown 호출 -> self.heap 호출 -> heap을 변형하여 최대 힙이 생성됨\n",
        "    for i in range(self.count, 0, -1):\n",
        "      # self.count : 마지막 노드 \n",
        "      self.swap(1, i)\n",
        "        # 마지막 노드와 루트를 맞바꿈\n",
        "        # heap은 이미 최대 힙 -> 루트가 가장 큰 값을 가지고 있음 \n",
        "      self.shiftdown(1, i-1)\n",
        "        # i번째 노드의 값은 고정해두고 루트 노드에 있던 값의 위치를 찾아서 배치"
      ],
      "metadata": {
        "id": "_O_Vp2QNU-5g"
      },
      "execution_count": 11,
      "outputs": []
    },
    {
      "cell_type": "code",
      "source": [
        "h = Heap(12)\n",
        "print('Heap Sort')\n",
        "lst = [0,2,7,5,9,4,2,9,0,10,60]\n",
        "print('정렬 전:', lst)\n",
        "h.sort(lst)\n",
        "print('정렬 후:', h.heap)"
      ],
      "metadata": {
        "colab": {
          "base_uri": "https://localhost:8080/"
        },
        "id": "umqKZGjaRkBr",
        "outputId": "e5af3849-0cac-480d-9895-b5f052ac46fd"
      },
      "execution_count": 14,
      "outputs": [
        {
          "output_type": "stream",
          "name": "stdout",
          "text": [
            "Heap Sort\n",
            "정렬 전: [0, 2, 7, 5, 9, 4, 2, 9, 0, 10, 60]\n",
            "정렬 후: [0, 0, 2, 2, 4, 5, 7, 9, 9, 10, 60]\n"
          ]
        }
      ]
    },
    {
      "cell_type": "markdown",
      "source": [
        "## 최대힙, 정렬\n"
      ],
      "metadata": {
        "id": "Ik3mnejZbqCF"
      }
    },
    {
      "cell_type": "code",
      "source": [],
      "metadata": {
        "id": "rJm78m_YjCp6"
      },
      "execution_count": null,
      "outputs": []
    },
    {
      "cell_type": "code",
      "source": [
        "class Heap:\n",
        "  def __init__(self, size):\n",
        "    self.size = size\n",
        "    self.heap = [None] * size\n",
        "    self.count = 0\n",
        "  \n",
        "  def __str__(self):\n",
        "    return \"Heap, 0 is Dummy\"\n",
        "  \n",
        "  def add_Heap(self, item):\n",
        "    if self.isFull(): return\n",
        "    self.count += 1\n",
        "    i = self.count\n",
        "    while i != 1 and item > self.heap[i//2]:\n",
        "      self.heap[i] = self.heap[i // 2]\n",
        "      i //= 2\n",
        "    self.heap[i] = item\n",
        "    print(\"%2d\" %item, end = '')\n",
        "    print(self.heap)\n",
        "  \n",
        "  def del_heap(self):\n",
        "    if self.isEmpty():\n",
        "      print(\"Empty heap\")\n",
        "      return\n",
        "    item = self.heap[1]\n",
        "    self.swap(1, self.count)\n",
        "    self.heap[self.count] = None\n",
        "    self.count -= 1\n",
        "    self.shiftdown(1, self.count)\n",
        "    return item\n",
        "\n",
        "  def isEmpty(self): return self.count == 0\n",
        "  \n",
        "  def isFull(self):return self.size - 1 == self.count\n",
        "\n",
        "  def shiftdown(self, root, n):\n",
        "    temp = self.heap[root]\n",
        "    child = 2 * root\n",
        "    while child <= n:\n",
        "      if child < n and self.heap[child] < self.heap[child + 1]:\n",
        "        child = child + 1\n",
        "      if temp > self.heap[child]: break\n",
        "      else:\n",
        "        self.heap[child // 2] = self.heap[child]\n",
        "        child *= 2\n",
        "    self.heap[child // 2] = temp\n",
        "  \n",
        "  def swap(self, a, b):\n",
        "    temp = self.heap[a]\n",
        "    self.heap[a] = self.heap[b]\n",
        "    self.heap[b] = temp\n",
        "  \n",
        "  def makeheap(self, root, n):\n",
        "    for i in range(n // 2, 0, -1):\n",
        "      self.shiftdown(i, n)\n",
        "  \n",
        "  def sort(self, list):\n",
        "    self.heap = list\n",
        "    self.count = len(list) - 1\n",
        "    self.makeheap(1, self.count)\n",
        "    for i in range(self.count, 0, -1):\n",
        "      self.swap(1, i)\n",
        "      self.shiftdown(1, i-1)"
      ],
      "metadata": {
        "id": "_g-6LcoDaj76"
      },
      "execution_count": 13,
      "outputs": []
    }
  ]
}