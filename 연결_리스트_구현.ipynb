{
  "nbformat": 4,
  "nbformat_minor": 0,
  "metadata": {
    "colab": {
      "provenance": [],
      "authorship_tag": "ABX9TyM3LpSdUwG+DEW18g7+MI5E",
      "include_colab_link": true
    },
    "kernelspec": {
      "name": "python3",
      "display_name": "Python 3"
    },
    "language_info": {
      "name": "python"
    }
  },
  "cells": [
    {
      "cell_type": "markdown",
      "metadata": {
        "id": "view-in-github",
        "colab_type": "text"
      },
      "source": [
        "<a href=\"https://colab.research.google.com/github/nyunu/data_structure/blob/main/%EC%97%B0%EA%B2%B0_%EB%A6%AC%EC%8A%A4%ED%8A%B8_%EA%B5%AC%ED%98%84.ipynb\" target=\"_parent\"><img src=\"https://colab.research.google.com/assets/colab-badge.svg\" alt=\"Open In Colab\"/></a>"
      ]
    },
    {
      "cell_type": "markdown",
      "source": [
        "### **연결 리스트 코드**\n",
        "- Node : 데이터와 다음 데이터를 가리키는 주소(포인터)로 이루어져 있다.\n",
        "\n",
        "- Pointer : 각 노드에서 다음 데이터를 가리키는 주소값을 가진다.\n",
        "\n",
        "- Head : 링크드리스트에서 가장 시작점인 데이터를 의미한다.\n",
        "\n",
        "- Tail : 링크드리스트에서 가장 마지막 데이터를 의미\n",
        "\n",
        "- Link=None(또는 Null) : 다음 데이터가 없을 경우 포인터의 주소값은 None(또는 Null)이다."
      ],
      "metadata": {
        "id": "-vRP8ST9PSKJ"
      }
    },
    {
      "cell_type": "code",
      "execution_count": null,
      "metadata": {
        "id": "l_JERTyKMxlN"
      },
      "outputs": [],
      "source": [
        "class Node:\n",
        "  def __init__(self, item):\n",
        "    self.data = item\n",
        "    self.link = None\n",
        "\n",
        "class SinglyLinkedlist:\n",
        "  def __init__(self):\n",
        "    self.head = None\n",
        "    self.tail = None\n",
        "\n",
        "  def view(self):\n",
        "    temp = self.head # temp라는 변수에 self.head(Node 클래스를 이용하여 생성한 객체임 + 근데 비어있는게 아니라 앞선 내용이 포함되어 있음)라는 객체를 할당\n",
        "    print('[', end = ' ')\n",
        "    while temp: # 아래의 과정을 반복하다가 temp.link가 None일 때 = self.tail에 도달해 더이상의 link가 존재하지 않을 때 STOP\n",
        "      print(temp.data, end = ' ') # 가장 먼저는 self.head에 있는 데이터를 읽어오고 그 이후에 연결되어 있는 리스트들의 값을 연결된 순서대로 읽어옴 -> 어떻게 ?는 아래줄에\n",
        "      temp = temp.link # temp.link라는 변수는 다음에 연결되어 있는 Node라는 클래스를 이용하여 만든 객체를 참조하고 있음 -> 다음 리스트를 불러옴\n",
        "    print(']', end= ' ')\n",
        "    if self.head: # self.head 있으면 빈 리스트 아니니까 출력력\n",
        "      print('H = ', self.head.data, \"T = \", self.tail.data)\n",
        "    else:\n",
        "      print(\"Empty list\")\n",
        "\n",
        "  def isEmpty(self):\n",
        "    return not self.head\n",
        "\n",
        "  def insert(self, prev_data, item): # 데이터 삽입\n",
        "    if self.head is None: # 공백리스트이면 당연히 헤드도 없고, 테일도 없겠지 -> 새로운 데이터가 포함되면 헤드 = 테일 성립\n",
        "      node = Node(item) # 삽입할 데이터를 담은 리스트를 생성하고\n",
        "      self.head = node # self.head도 위에서 정의한 node 객체를 담고\n",
        "      self.tail = node # self.tail도 위에서 정의한 node 객체를 담음\n",
        "      return\n",
        "    node = Node(item) # self.head가 비어있지 않아도 node 객체 생성해야하니까\n",
        "    if prev_data is None: # 입력받은 prev_data의 값이 None이면 리스트의 맨 앞에 노드를 삽입한다는 의미 -> prev_data는 지금 삽입하는 연결리스트의 앞의 노드를 여기로 해라를 지정하는 것이니까 -> prev_data = None이다 ? = 앞에 연결할 노드가 없다 = 리스트 젤 앞에 연결하는거다다\n",
        "      node.link = self.head # self.head에 할당되어 있는 객체를 node의 link에 할당 (self.head를 node의 뒤로 연결시키는 것것)\n",
        "      self.head = node # 그리고 node 객체를 self.head에 할당해서 node를 headnode가 되도록 함\n",
        "      return\n",
        "    pprev, prev = self.find(prev_data) # pprev -> prev -> node 순으로 연결될 예정\n",
        "    if prev is None: # 근데 이렇게 했는데 만약에 이전 노드가 없었다하면\n",
        "      print(\"Not Exist previous node\") # 존재하지 않는다고 print\n",
        "      return\n",
        "    else: # 아니면\n",
        "      node.link = prev.link # 원래 prev가 가리키고 있던 리스트의 link를 node에게 연결\n",
        "      prev.link = node # node를 prev.link에 연결\n",
        "      if node.link is None: self.tail = node # 만약에 node에 링크가 할당되어 있지 않다 -> prev가 tail이었어서 할당해줄 link가 없었던 것 -> 그러니까 이제는 node가 tail이 됨\n",
        "\n",
        "  def delete(self,item):\n",
        "    if self.head is None: # 빈리스트이면\n",
        "      print(\"Empty List\")\n",
        "      return\n",
        "    prev, node = self.find(item) # 삭제할 데이터의 노드를 찾음 / node가 삭제할 데이터의 노드, prev는 삭제할 데이터 이전의 노드드\n",
        "    if node is None: # 찾아봤는데 없으면 삭제할 것도 없지\n",
        "      print(\"Not Exist node\")\n",
        "      return\n",
        "    if prev: # prev가 존재하면\n",
        "      prev.link = node.link # node가 연결하고 있는 다음 리스트를 prev.link에 할당해주고 node는 그 연결에서 빠져나옴\n",
        "      print(\"Delete complitely\")\n",
        "    else: # prev가 존재하지 않으면 <= node가 head였으면이 무조건이 아냐 ..?>\n",
        "      if self.head == node: # node가 head였으면\n",
        "        print(\"Head deleted\")\n",
        "        self.head = node.link # 노드가 연결하고 있던 다음 리스트를 헤드로 지정하고 node는 그 연결에서 빠져나옴\n",
        "    if node == self.tail: self.tail = prev # node가 tail이었으면 prev를 tail로 지정\n",
        "    del node # 마지막으로는 node라는 리스트 삭-제제\n",
        "\n",
        "  def find(self, item): # item : insert시에 삽입하는 리스트의 앞 노드 정보(link말고 data로 줌)\n",
        "    if not self.head: return None, None # self.head가 없다 -> 빈리스트이니까 none, none 반환\n",
        "    # 위의 if문을 충족하지 않으면\n",
        "    temp = self.head # self.head의 객체를 temp에 할당\n",
        "    prev = None # prev = None으로 정의하고\n",
        "    while temp:\n",
        "      if temp.data == item: # temp.data가 item과 동일하면 그때의 temp 객체가 삽입 노드의 앞 노드인 것\n",
        "        return prev, temp # temp의 앞노드인 prev, 그리고 삽입 노드의 앞 노드인 temp를 반환 = 그러니까 ... prev -> temp 이렇게 연결되어 있는 것\n",
        "      prev = temp # temp를 prev에 할당하고\n",
        "      temp = temp.link # 다음 리스트를 가리키는 temp.link를 temp로 할당\n",
        "    return None, None # 만약에 while문이 다 돌아감 -> 리스트가 tail에 이를때까지 돌아갔는데도 return값이 없었으면 -> 앞 노드에 해당하는 것이 리스트에 없는 것이기 때문에 None, None을 반환\n",
        "\n",
        "  def length_list(self):\n",
        "    count = 0\n",
        "    temp = self.head\n",
        "    while temp:\n",
        "      count += 1\n",
        "      temp = temp.link\n",
        "    return count\n",
        "\n",
        "  def concat(self, second):\n",
        "    if self.head is None:\n",
        "      return second\n",
        "    elif second:\n",
        "      temp = self.head\n",
        "      while temp.link:\n",
        "        temp = temp.link\n",
        "      temp.link = second\n",
        "      while seconde.link:\n",
        "        second = second.link\n",
        "      self.tail = second\n",
        "    return self.head\n",
        "\n",
        "  def reverse(self):\n",
        "    one = self.head\n",
        "    two = three = None\n",
        "    self.tail = self.head\n",
        "    while one:\n",
        "      three = two\n",
        "      two = one\n",
        "      one = one.link\n",
        "      two.link = three\n",
        "    self.head = two"
      ]
    },
    {
      "cell_type": "code",
      "source": [
        "list2 = SinglyLinkedlist()\n",
        "list2.insert(None,200)\n",
        "list2.view()"
      ],
      "metadata": {
        "colab": {
          "base_uri": "https://localhost:8080/"
        },
        "id": "wEUXmQ-vrtOF",
        "outputId": "af91063d-9f12-4b29-8a9d-5d1ae06df696"
      },
      "execution_count": null,
      "outputs": [
        {
          "output_type": "stream",
          "name": "stdout",
          "text": [
            "[ 200 ] H =  200 T =  200\n"
          ]
        }
      ]
    },
    {
      "cell_type": "code",
      "source": [
        "list1 = SinglyLinkedlist()\n",
        "list1.view()\n",
        "print(\"insert : \")\n",
        "for item in [100, 200, 300, 400]:\n",
        "  print(item, item+100, end = '')\n",
        "  list1.insert(item, item + 100)\n",
        "  list1.view()\n",
        "list1.insert(None, 600)\n",
        "list1.view()\n",
        "print(None, 600, end = '')"
      ],
      "metadata": {
        "colab": {
          "base_uri": "https://localhost:8080/"
        },
        "id": "7YIbSwmqQKS0",
        "outputId": "732fa813-4248-440f-a7d9-3dfc1fe1a7a4"
      },
      "execution_count": null,
      "outputs": [
        {
          "output_type": "stream",
          "name": "stdout",
          "text": [
            "[ ] Empty list\n",
            "insert : \n",
            "100 200[ 200 ] H =  200 T =  200\n",
            "H =  None T =  None\n",
            "200 300[ 200 300 ] H =  200 T =  300\n",
            "H =  <__main__.Node object at 0x7f8ca849deb0> T =  None\n",
            "300 400[ 200 300 400 ] H =  200 T =  400\n",
            "H =  <__main__.Node object at 0x7f8ca849deb0> T =  None\n",
            "400 500[ 200 300 400 500 ] H =  200 T =  500\n",
            "H =  <__main__.Node object at 0x7f8ca849deb0> T =  None\n",
            "[ 600 200 300 400 500 ] H =  600 T =  500\n",
            "H =  <__main__.Node object at 0x7f8ca84b2a30> T =  None\n",
            "None 600"
          ]
        }
      ]
    },
    {
      "cell_type": "code",
      "source": [
        "list1.view()\n",
        "list1.insert(800, 700)\n",
        "print(800, 700, end = '')\n",
        "list1.view()\n",
        "print('Delete: ')\n",
        "list1.view()\n",
        "for item in [400, 100, 200, 300, 500]:\n",
        "  print(item, end = '')\n",
        "  list1.delete(item)\n",
        "  list1.view()"
      ],
      "metadata": {
        "colab": {
          "base_uri": "https://localhost:8080/"
        },
        "id": "_GoTiqoaq_R3",
        "outputId": "ea38b852-99a3-4982-d63e-bc59ded5b4d4"
      },
      "execution_count": null,
      "outputs": [
        {
          "output_type": "stream",
          "name": "stdout",
          "text": [
            "[ 600 200 300 400 500 ] H =  600 T =  500\n",
            "Not Exist previous node\n",
            "800 700[ 600 200 300 400 500 ] H =  600 T =  500\n",
            "Delete: \n",
            "[ 600 200 300 400 500 ] H =  600 T =  500\n",
            "400Delete complitely\n",
            "[ 600 200 300 500 ] H =  600 T =  500\n",
            "100Not Exist node\n",
            "[ 600 200 300 500 ] H =  600 T =  500\n",
            "200Delete complitely\n",
            "[ 600 300 500 ] H =  600 T =  500\n",
            "300Delete complitely\n",
            "[ 600 500 ] H =  600 T =  500\n",
            "500Delete complitely\n",
            "[ 600 ] H =  600 T =  600\n"
          ]
        }
      ]
    },
    {
      "cell_type": "markdown",
      "source": [
        "### **연결 리스트 구현을 위해 필요한 클래스 내용 정리**"
      ],
      "metadata": {
        "id": "rk793-uJPH8x"
      }
    },
    {
      "cell_type": "markdown",
      "source": [
        "#### 간단한 연결리스트"
      ],
      "metadata": {
        "id": "hZbMs9tyPYty"
      }
    },
    {
      "cell_type": "code",
      "source": [
        "class Node:\n",
        "    def __init__(self, data, next=None):\n",
        "        self.data = data\n",
        "        self.next = next\n",
        "\n",
        "    def view(self):\n",
        "      print(self.data)\n",
        "      print(self.next)\n",
        "\n",
        "node1 = Node(1)\n",
        "node2 = Node(2)\n",
        "node1.next = node2\n",
        "head = node1"
      ],
      "metadata": {
        "id": "BUT4ajJrw7ys"
      },
      "execution_count": null,
      "outputs": []
    },
    {
      "cell_type": "code",
      "source": [
        "print(node1)\n",
        "print(node2)\n",
        "print(node1.next)\n",
        "print(head)"
      ],
      "metadata": {
        "colab": {
          "base_uri": "https://localhost:8080/"
        },
        "id": "HFH6BIX-w-CF",
        "outputId": "c82d3d07-0015-47b1-acc1-360dd83147dc"
      },
      "execution_count": null,
      "outputs": [
        {
          "output_type": "stream",
          "name": "stdout",
          "text": [
            "<__main__.Node object at 0x7f8ca84c4730>\n",
            "<__main__.Node object at 0x7f8ca84c4280>\n",
            "<__main__.Node object at 0x7f8ca84c4280>\n",
            "<__main__.Node object at 0x7f8ca84c4730>\n"
          ]
        }
      ]
    },
    {
      "cell_type": "markdown",
      "source": [
        "* <__main__~~> 이렇게 출력되는 이유\n",
        "  - print() 함수에 문자열이 아닌 자료형의 데이터가 인자로 넘어오면 str() 함수를 내부적으로 호출하기 때문\n",
        "  - str() 함수는 인자로 넘어온 객체의 __str__() 매직 함수를 호출하도록 되어 있음 -> 클래스 내에 __str__() 함수를 추가한 뒤 print()하면 원하는 모습으로 출력됨\n",
        "  - 그리고 저 값은 클래스 이름과 메모리 주소인듯함 Node라는 클래스, at ~~장소 이런식식"
      ],
      "metadata": {
        "id": "gCQjBtD6zOq1"
      }
    },
    {
      "cell_type": "code",
      "source": [
        "class NumberHolder:\n",
        "    def __init__(self, number):\n",
        "        self.number = number\n",
        "\n",
        "    def __str__(self):\n",
        "        return f\"{self.number}\""
      ],
      "metadata": {
        "id": "M1-JzvuMy9Oo"
      },
      "execution_count": null,
      "outputs": []
    },
    {
      "cell_type": "code",
      "source": [
        "print(NumberHolder(1))"
      ],
      "metadata": {
        "colab": {
          "base_uri": "https://localhost:8080/"
        },
        "id": "Fobtv_rBy-yc",
        "outputId": "d6c05346-1966-4763-d3e1-2f5827e537e1"
      },
      "execution_count": null,
      "outputs": [
        {
          "output_type": "stream",
          "name": "stdout",
          "text": [
            "1\n"
          ]
        }
      ]
    },
    {
      "cell_type": "code",
      "source": [
        "# Node 클래스를 활용하여 만든 node1이라는 객체 생성\n",
        "node1 = Node(1)\n",
        "# Node 클래스를 활용하여 만든 node2이라는 객체 생성\n",
        "node2 = Node(3)\n",
        "# Node 연결 - node1 객체 내에 있는 next라는 변수에 node2를 할당하여 node1.next라는 객체를 생성한 것것\n",
        "node1.next = node2\n",
        "# 가장 맨 앞 Node를 알기 위해 head 지정 -\n",
        "head = node1\n",
        "\n",
        "#node1을 통해 연결한 결과 확인(밑에 2줄은 동일한 결과를 가리킨다)\n",
        "print(node1.next.data)\n",
        "print(node2.data)"
      ],
      "metadata": {
        "colab": {
          "base_uri": "https://localhost:8080/"
        },
        "id": "e4UUt3KuWd0_",
        "outputId": "70a5875e-54f4-4d31-f4b3-985b1af6213b"
      },
      "execution_count": null,
      "outputs": [
        {
          "output_type": "stream",
          "name": "stdout",
          "text": [
            "3\n",
            "3\n"
          ]
        }
      ]
    }
  ]
}